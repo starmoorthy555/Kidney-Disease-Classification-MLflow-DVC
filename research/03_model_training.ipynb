{
 "cells": [
  {
   "cell_type": "code",
   "execution_count": 1,
   "metadata": {},
   "outputs": [],
   "source": [
    "import os"
   ]
  },
  {
   "cell_type": "code",
   "execution_count": 2,
   "metadata": {},
   "outputs": [
    {
     "data": {
      "text/plain": [
       "'d:\\\\AI\\\\Kidney-Disease-Classification-MLflow-DVC\\\\research'"
      ]
     },
     "execution_count": 2,
     "metadata": {},
     "output_type": "execute_result"
    }
   ],
   "source": [
    "%pwd"
   ]
  },
  {
   "cell_type": "code",
   "execution_count": 3,
   "metadata": {},
   "outputs": [],
   "source": [
    "os.chdir('../')"
   ]
  },
  {
   "cell_type": "code",
   "execution_count": 4,
   "metadata": {},
   "outputs": [
    {
     "data": {
      "text/plain": [
       "'d:\\\\AI\\\\Kidney-Disease-Classification-MLflow-DVC'"
      ]
     },
     "execution_count": 4,
     "metadata": {},
     "output_type": "execute_result"
    }
   ],
   "source": [
    "%pwd"
   ]
  },
  {
   "cell_type": "code",
   "execution_count": 5,
   "metadata": {},
   "outputs": [],
   "source": [
    "from dataclasses import dataclass\n",
    "from pathlib import Path\n",
    "\n",
    "@dataclass(frozen=True)\n",
    "class TrainingConfiq:\n",
    "    root_dir: Path\n",
    "    trained_model_path: Path\n",
    "    updated_base_model_path: Path\n",
    "    training_data: Path\n",
    "    parms_epoch: int\n",
    "    parms_batch_size: int\n",
    "    parms_is_augumentaion: bool\n",
    "    parms_image_size: list"
   ]
  },
  {
   "cell_type": "code",
   "execution_count": 6,
   "metadata": {},
   "outputs": [],
   "source": [
    "from src.cnnClassifier.constants import *\n",
    "from src.cnnClassifier.utils.comman import read_yaml,create_path"
   ]
  },
  {
   "cell_type": "code",
   "execution_count": 7,
   "metadata": {},
   "outputs": [],
   "source": [
    "class ConfigurationManager:\n",
    "    def __init__(self,config_path = CONFIG_FILE_PATH,parms_path = PARMS_FILE_PATH):\n",
    "        self.config = read_yaml(config_path)\n",
    "        self.parms = read_yaml(parms_path)\n",
    "        create_path([self.config.artifacts_root])\n",
    "    \n",
    "    def get_training_config(self) -> TrainingConfiq:\n",
    "        training = self.config.training\n",
    "        prepare_base_model = self.config.prepare_base_model\n",
    "        parms = self.parms\n",
    "        trainig_data = os.path.join(self.config.data_ingestion.unzip_dir,'Kidney-CT-Scan')\n",
    "\n",
    "        create_path([Path(training.root_dir)])\n",
    "\n",
    "        training_confiq=TrainingConfiq(\n",
    "            root_dir=Path(training.root_dir),\n",
    "            trained_model_path=Path(training.training_model_path),\n",
    "            updated_base_model_path = Path(prepare_base_model.base_model_updated_path),\n",
    "            training_data = trainig_data,\n",
    "            parms_epoch = parms.EPOCHS,\n",
    "            parms_batch_size = parms.BATCH_SIZE,\n",
    "            parms_is_augumentaion = parms.AUGUMENTATION,\n",
    "            parms_image_size = parms.IMAGE_SIZE\n",
    "            )\n",
    "        return training_confiq"
   ]
  },
  {
   "cell_type": "code",
   "execution_count": 8,
   "metadata": {},
   "outputs": [
    {
     "name": "stdout",
     "output_type": "stream",
     "text": [
      "[2024-08-31 02:38:28,879: INFO: utils: NumExpr defaulting to 4 threads.]\n"
     ]
    }
   ],
   "source": [
    "import os\n",
    "import tensorflow as tf"
   ]
  },
  {
   "cell_type": "code",
   "execution_count": 9,
   "metadata": {},
   "outputs": [],
   "source": [
    "class Training:\n",
    "    def __init__(self,config:TrainingConfiq):\n",
    "        self.config = config\n",
    "\n",
    "    def get_base_model(self):\n",
    "        self.model = tf.keras.models.load_model(self.config.updated_base_model_path)\n",
    "\n",
    "    def train_valid_generater(self):\n",
    "        datagenerater_kwargs = dict(rescale = 1./255,validation_split = 0.20)\n",
    "        dataflow_kwargs= dict(target_size = self.config.parms_image_size[:-1],batch_size = self.config.parms_batch_size,interpolation = 'bilinear')\n",
    "        valid_datagenerater = tf.keras.preprocessing.image.ImageDataGenerator(**datagenerater_kwargs)\n",
    "\n",
    "        self.valid_generator = valid_datagenerater.flow_from_directory(\n",
    "            directory=self.config.training_data,\n",
    "            subset='validation',\n",
    "            shuffle=False,\n",
    "            **dataflow_kwargs\n",
    "        )\n",
    "        if self.config.parms_is_augumentaion:\n",
    "            train_datagenerator = tf.keras.preprocessing.image.ImageDataGenerator(\n",
    "                rotation_range=40,\n",
    "                horizontal_flip=True,\n",
    "                width_shift_range=0.2,\n",
    "                height_shift_range=0.2,\n",
    "                shear_range=0.2,\n",
    "                zoom_range=0.2,\n",
    "                **datagenerater_kwargs\n",
    "            )\n",
    "        else:\n",
    "            train_datagenerator = valid_datagenerater\n",
    "\n",
    "        self.train_generator = train_datagenerator.flow_from_directory(\n",
    "            directory=self.config.training_data,\n",
    "            subset=\"training\",\n",
    "            shuffle=True,\n",
    "            **dataflow_kwargs\n",
    "        )\n",
    "\n",
    "    @staticmethod\n",
    "    def save_model(path: Path, model: tf.keras.Model):\n",
    "        model.save(path)\n",
    "    \n",
    "    def train(self):\n",
    "        self.steps_per_epoch = self.train_generator.samples // self.train_generator.batch_size\n",
    "        self.validation_steps = self.valid_generator.samples // self.valid_generator.batch_size\n",
    "\n",
    "        self.model.fit(\n",
    "            self.train_generator,\n",
    "            epochs=self.config.parms_epoch,\n",
    "            steps_per_epoch=self.steps_per_epoch,\n",
    "            validation_steps=self.validation_steps,\n",
    "            validation_data=self.valid_generator\n",
    "        )\n",
    "\n",
    "        self.save_model(\n",
    "            path=self.config.trained_model_path,\n",
    "            model=self.model\n",
    "        )"
   ]
  },
  {
   "cell_type": "code",
   "execution_count": 10,
   "metadata": {},
   "outputs": [
    {
     "name": "stdout",
     "output_type": "stream",
     "text": [
      "config\\config.yaml\n",
      "[2024-08-31 02:38:31,943: INFO: comman: yaml file:config\\config.yaml load sucessfully]\n",
      "params.yaml\n",
      "[2024-08-31 02:38:31,959: INFO: comman: yaml file:params.yaml load sucessfully]\n",
      "[2024-08-31 02:38:31,959: INFO: comman: Directorys:artifacts sucessfully]\n",
      "[2024-08-31 02:38:31,959: INFO: comman: Directorys:artifacts\\training sucessfully]\n",
      "Found 80 images belonging to 2 classes.\n",
      "Found 320 images belonging to 2 classes.\n",
      "20/20 [==============================] - 901s 45s/step - loss: 1.1649 - accuracy: 0.4938 - val_loss: 0.6927 - val_accuracy: 0.5000\n"
     ]
    }
   ],
   "source": [
    "try:\n",
    "    config = ConfigurationManager()\n",
    "    training_config = config.get_training_config()\n",
    "    training = Training(config=training_config)\n",
    "    training.get_base_model()\n",
    "    training.train_valid_generater()\n",
    "    training.train()\n",
    "    \n",
    "except Exception as e:\n",
    "    raise e"
   ]
  },
  {
   "cell_type": "code",
   "execution_count": null,
   "metadata": {},
   "outputs": [],
   "source": []
  },
  {
   "cell_type": "code",
   "execution_count": null,
   "metadata": {},
   "outputs": [],
   "source": []
  }
 ],
 "metadata": {
  "kernelspec": {
   "display_name": "Python 3",
   "language": "python",
   "name": "python3"
  },
  "language_info": {
   "codemirror_mode": {
    "name": "ipython",
    "version": 3
   },
   "file_extension": ".py",
   "mimetype": "text/x-python",
   "name": "python",
   "nbconvert_exporter": "python",
   "pygments_lexer": "ipython3",
   "version": "3.9.13"
  }
 },
 "nbformat": 4,
 "nbformat_minor": 2
}
